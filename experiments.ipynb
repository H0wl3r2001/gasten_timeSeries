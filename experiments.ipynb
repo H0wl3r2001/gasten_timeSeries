{
  "nbformat": 4,
  "nbformat_minor": 0,
  "metadata": {
    "colab": {
      "name": "experiments.ipynb",
      "provenance": [],
      "authorship_tag": "ABX9TyMcx8I7ZObuz4qHsHnEW40S"
    },
    "kernelspec": {
      "name": "python3",
      "display_name": "Python 3"
    },
    "language_info": {
      "name": "python"
    },
    "accelerator": "GPU"
  },
  "cells": [
    {
      "cell_type": "code",
      "source": [
        "!nvidia-smi -L"
      ],
      "metadata": {
        "colab": {
          "base_uri": "https://localhost:8080/"
        },
        "id": "17fHonFcgfPV",
        "outputId": "78af678c-2a97-40a6-ae5c-79c627379a33"
      },
      "execution_count": 8,
      "outputs": [
        {
          "output_type": "stream",
          "name": "stdout",
          "text": [
            "GPU 0: Tesla K80 (UUID: GPU-cfb8a392-23e0-c7bf-3f3b-877c83765139)\n"
          ]
        }
      ]
    },
    {
      "cell_type": "code",
      "source": [
        "!pip install schema"
      ],
      "metadata": {
        "colab": {
          "base_uri": "https://localhost:8080/"
        },
        "id": "9vG97PrsPfck",
        "outputId": "997498c2-83f0-49e2-a90f-9dd43d7a6ce2"
      },
      "execution_count": 1,
      "outputs": [
        {
          "output_type": "stream",
          "name": "stdout",
          "text": [
            "Collecting schema\n",
            "  Downloading schema-0.7.5-py2.py3-none-any.whl (17 kB)\n",
            "Requirement already satisfied: contextlib2>=0.5.5 in /usr/local/lib/python3.7/dist-packages (from schema) (0.5.5)\n",
            "Installing collected packages: schema\n",
            "Successfully installed schema-0.7.5\n"
          ]
        }
      ]
    },
    {
      "cell_type": "code",
      "execution_count": 2,
      "metadata": {
        "id": "5DaJQdZa2qcF",
        "colab": {
          "base_uri": "https://localhost:8080/"
        },
        "outputId": "6d8c8d17-bcae-43f4-9566-ecf3ff529b06"
      },
      "outputs": [
        {
          "output_type": "stream",
          "name": "stdout",
          "text": [
            "Mounted at /content/drive\n"
          ]
        }
      ],
      "source": [
        "from google.colab import drive\n",
        "drive.mount('/content/drive')"
      ]
    },
    {
      "cell_type": "code",
      "source": [
        "!python run_experiments.py --config exp_1.yml"
      ],
      "metadata": {
        "id": "2SNn07tkO0-j"
      },
      "execution_count": null,
      "outputs": []
    }
  ]
}
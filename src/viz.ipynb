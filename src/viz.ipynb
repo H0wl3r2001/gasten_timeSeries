{
 "cells": [
  {
   "cell_type": "code",
   "execution_count": 2,
   "metadata": {
    "collapsed": true
   },
   "outputs": [],
   "source": [
    "import glob\n",
    "import torch\n",
    "import numpy as np\n",
    "import torchvision.utils as vutils\n",
    "import matplotlib.pyplot as plt\n",
    "from checkpoint_utils import construct_gan_from_checkpoint, construct_classifier_from_checkpoint"
   ]
  },
  {
   "cell_type": "code",
   "execution_count": 3,
   "outputs": [],
   "source": [
    "device = torch.device('cpu')"
   ],
   "metadata": {
    "collapsed": false,
    "pycharm": {
     "name": "#%%\n"
    }
   }
  },
  {
   "cell_type": "code",
   "execution_count": 4,
   "outputs": [
    {
     "name": "stdout",
     "output_type": "stream",
     "text": [
      "Loading GAN from ../out/exp1_7v1/classifier.7v1_0.6/00 ...\n",
      "Loading GAN from ../out/exp1_7v1/classifier.7v1_0.6/01 ...\n",
      "Loading GAN from ../out/exp1_7v1/classifier.7v1_0.6/02 ...\n",
      "Loading GAN from ../out/exp1_7v1/classifier.7v1_0.6/03 ...\n",
      "Loading GAN from ../out/exp1_7v1/classifier.7v1_0.6/04 ...\n",
      "Loading GAN from ../out/exp1_7v1/classifier.7v1_0.6/05 ...\n",
      "Loading GAN from ../out/exp1_7v1/classifier.7v1_0.6/06 ...\n",
      "Loading GAN from ../out/exp1_7v1/classifier.7v1_0.6/07 ...\n",
      "Loading GAN from ../out/exp1_7v1/classifier.7v1_0.6/08 ...\n",
      "Loading GAN from ../out/exp1_7v1/classifier.7v1_0.6/09 ...\n",
      "Loading GAN from ../out/exp1_7v1/classifier.7v1_0.6/10 ...\n",
      "Loading GAN from ../out/exp1_7v1/classifier.7v1_0.6/11 ...\n",
      "Loading GAN from ../out/exp1_7v1/classifier.7v1_0.6/12 ...\n",
      "Loading GAN from ../out/exp1_7v1/classifier.7v1_0.6/13 ...\n",
      "Loading GAN from ../out/exp1_7v1/classifier.7v1_0.6/14 ...\n",
      "Loading GAN from ../out/exp1_7v1/classifier.7v1_0.6/15 ...\n",
      "Loading GAN from ../out/exp1_7v1/classifier.7v1_0.6/16 ...\n",
      "Loading GAN from ../out/exp1_7v1/classifier.7v1_0.6/17 ...\n",
      "Loading GAN from ../out/exp1_7v1/classifier.7v1_0.6/18 ...\n",
      "Loading GAN from ../out/exp1_7v1/classifier.7v1_0.6/19 ...\n",
      "Loading GAN from ../out/exp1_7v1/classifier.7v1_0.6/20 ...\n",
      "Loading GAN from ../out/exp1_7v1/classifier.7v1_0.6/21 ...\n",
      "Loading GAN from ../out/exp1_7v1/classifier.7v1_0.6/22 ...\n",
      "Loading GAN from ../out/exp1_7v1/classifier.7v1_0.6/23 ...\n",
      "Loading GAN from ../out/exp1_7v1/classifier.7v1_0.6/24 ...\n",
      "Loading GAN from ../out/exp1_7v1/classifier.7v1_0.6/25 ...\n",
      "Loading GAN from ../out/exp1_7v1/classifier.7v1_0.6/26 ...\n",
      "Loading GAN from ../out/exp1_7v1/classifier.7v1_0.6/27 ...\n",
      "Loading GAN from ../out/exp1_7v1/classifier.7v1_0.6/28 ...\n",
      "Loading GAN from ../out/exp1_7v1/classifier.7v1_0.6/29 ...\n",
      "Loading GAN from ../out/exp1_7v1/classifier.7v1_0.6/30 ...\n",
      "Loading GAN from ../out/exp1_7v1/classifier.7v1_0.6/31 ...\n",
      "Loading GAN from ../out/exp1_7v1/classifier.7v1_0.6/32 ...\n",
      "Loading GAN from ../out/exp1_7v1/classifier.7v1_0.6/33 ...\n",
      "Loading GAN from ../out/exp1_7v1/classifier.7v1_0.6/34 ...\n",
      "Loading GAN from ../out/exp1_7v1/classifier.7v1_0.6/35 ...\n",
      "Loading GAN from ../out/exp1_7v1/classifier.7v1_0.6/36 ...\n",
      "Loading GAN from ../out/exp1_7v1/classifier.7v1_0.6/37 ...\n",
      "Loading GAN from ../out/exp1_7v1/classifier.7v1_0.6/38 ...\n",
      "Loading GAN from ../out/exp1_7v1/classifier.7v1_0.6/39 ...\n",
      "Loading GAN from ../out/exp1_7v1/classifier.7v1_0.6/40 ...\n",
      "Loading GAN from ../out/exp1_7v1/classifier.7v1_0.6/41 ...\n",
      "Loading GAN from ../out/exp1_7v1/classifier.7v1_0.6/42 ...\n",
      "Loading GAN from ../out/exp1_7v1/classifier.7v1_0.6/43 ...\n",
      "Loading GAN from ../out/exp1_7v1/classifier.7v1_0.6/44 ...\n",
      "Loading GAN from ../out/exp1_7v1/classifier.7v1_0.6/45 ...\n",
      "Loading GAN from ../out/exp1_7v1/classifier.7v1_0.6/46 ...\n",
      "Loading GAN from ../out/exp1_7v1/classifier.7v1_0.6/47 ...\n",
      "Loading GAN from ../out/exp1_7v1/classifier.7v1_0.6/48 ...\n",
      "Loading GAN from ../out/exp1_7v1/classifier.7v1_0.6/49 ...\n",
      "Loading GAN from ../out/exp1_7v1/classifier.7v1_0.6/50 ...\n"
     ]
    }
   ],
   "source": [
    "g_list = []\n",
    "paths = [g_path for g_path in glob.glob('../out/exp1_7v1/classifier.7v1_0.6/[0-9]*')]\n",
    "paths.sort()\n",
    "\n",
    "for g_path in paths:\n",
    "    g, _, _, _ = construct_gan_from_checkpoint(g_path, device=device)\n",
    "    g.eval()\n",
    "    g_list.append(g)"
   ],
   "metadata": {
    "collapsed": false,
    "pycharm": {
     "name": "#%%\n"
    }
   }
  },
  {
   "cell_type": "code",
   "execution_count": 5,
   "outputs": [
    {
     "name": "stdout",
     "output_type": "stream",
     "text": [
      "Loading model from ../out/exp1_7v1/classifier.7v1.pth ...\n",
      "Model classifier.simple.7v1\n",
      "\t> Params:  {'nc': 1, 'nf': 1}\n"
     ]
    }
   ],
   "source": [
    "c, _, _, _ = construct_classifier_from_checkpoint('../out/exp1_7v1/classifier.7v1.pth', device=device)"
   ],
   "metadata": {
    "collapsed": false,
    "pycharm": {
     "name": "#%%\n"
    }
   }
  },
  {
   "cell_type": "code",
   "execution_count": 6,
   "outputs": [],
   "source": [
    "z = torch.randn(1000, 100, 1, 1, device=device)\n",
    "\n",
    "new_gi = g_list[-1](z).detach().cpu()\n",
    "old_gi = g_list[0](z).detach().cpu()\n",
    "\n",
    "\n",
    "old_c_output = c(old_gi)\n",
    "new_c_output = c(new_gi)\n",
    "\n",
    "new_term_2 = (0.5 - new_c_output).abs().detach().cpu().numpy()\n",
    "old_term_2 = (0.5 - old_c_output).abs().detach().cpu().numpy()\n",
    "\n",
    "diff_term_2 = new_term_2 - old_term_2\n",
    "\n",
    "ind = np.argsort(diff_term_2, axis=0)"
   ],
   "metadata": {
    "collapsed": false,
    "pycharm": {
     "name": "#%%\n"
    }
   }
  },
  {
   "cell_type": "code",
   "execution_count": 7,
   "outputs": [
    {
     "data": {
      "text/plain": "<Figure size 1080x1080 with 1 Axes>",
      "image/png": "[encoded data removed]"
     },
     "metadata": {
      "needs_background": "light"
     },
     "output_type": "display_data"
    },
    {
     "name": "stdout",
     "output_type": "stream",
     "text": [
      "Pos class -> 7\n",
      "Neg class -> 1\n",
      "Before\t\tAfter\n",
      "0.9998   0.5089\n",
      "0.9910   0.5012\n",
      "0.0017   0.4913\n",
      "0.0014   0.4910\n",
      "0.9996   0.5110\n",
      "1.0000   0.4880\n",
      "0.9998   0.4879\n",
      "1.0000   0.4860\n"
     ]
    }
   ],
   "source": [
    "old = old_gi[ind[0:8]]\n",
    "new = new_gi[ind[0:8]]\n",
    "\n",
    "gi = torch.vstack((old, new))\n",
    "\n",
    "gr = vutils.make_grid(gi, padding=2, normalize=True)\n",
    "\n",
    "plt.figure(figsize=(15,15))\n",
    "plt.axis(\"off\")\n",
    "plt.imshow(np.transpose(gr, (1,2,0)))\n",
    "plt.show()\n",
    "\n",
    "old_out = c(old.to(device))\n",
    "new_out = c(new.to(device))\n",
    "\n",
    "print('Pos class ->', 7)\n",
    "print('Neg class ->', 1)\n",
    "print('Before\\t\\tAfter')\n",
    "for old, new in zip(old_out, new_out):\n",
    "  print('%.4f   %.4f' % (old.item(), new.item()))"
   ],
   "metadata": {
    "collapsed": false,
    "pycharm": {
     "name": "#%%\n"
    }
   }
  },
  {
   "cell_type": "code",
   "execution_count": 7,
   "outputs": [],
   "source": [],
   "metadata": {
    "collapsed": false,
    "pycharm": {
     "name": "#%%\n"
    }
   }
  }
 ],
 "metadata": {
  "kernelspec": {
   "display_name": "Python 3",
   "language": "python",
   "name": "python3"
  },
  "language_info": {
   "codemirror_mode": {
    "name": "ipython",
    "version": 2
   },
   "file_extension": ".py",
   "mimetype": "text/x-python",
   "name": "python",
   "nbconvert_exporter": "python",
   "pygments_lexer": "ipython2",
   "version": "2.7.6"
  }
 },
 "nbformat": 4,
 "nbformat_minor": 0
}